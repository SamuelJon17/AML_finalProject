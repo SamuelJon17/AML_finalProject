{
 "cells": [
  {
   "cell_type": "markdown",
   "id": "1913798c",
   "metadata": {},
   "source": [
    "# Matrix Factorization w/ Alternating Least Square & Weight Regularization (MF-ALS-WR)\n",
    "Reference: \n",
    "* http://ethen8181.github.io/machine-learning/recsys/1_ALSWR.html\n"
   ]
  },
  {
   "cell_type": "code",
   "execution_count": 2,
   "id": "d50c1a23",
   "metadata": {},
   "outputs": [
    {
     "name": "stderr",
     "output_type": "stream",
     "text": [
      "/Users/samueljon/opt/anaconda3/envs/cs5525/lib/python3.9/site-packages/scipy/__init__.py:146: UserWarning: A NumPy version >=1.16.5 and <1.23.0 is required for this version of SciPy (detected version 1.24.3\n",
      "  warnings.warn(f\"A NumPy version >={np_minversion} and <{np_maxversion}\"\n"
     ]
    }
   ],
   "source": [
    "import pandas as pd\n",
    "import matplotlib.pyplot as plt \n",
    "import numpy as np\n",
    "import random\n",
    "import time\n",
    "from tqdm.notebook import tqdm\n",
    "\n",
    "## Preprocessing Aid\n",
    "from sklearn.metrics import mean_squared_error\n",
    "from sklearn import preprocessing as pp\n",
    "from sklearn.model_selection import train_test_split\n",
    "import scipy.sparse as sp\n",
    "from recommenders.evaluation.python_evaluation import map_at_k, ndcg_at_k, precision_at_k, recall_at_k\n",
    "from recommenders.utils.timer import Timer\n"
   ]
  },
  {
   "cell_type": "code",
   "execution_count": 3,
   "id": "e47aac81",
   "metadata": {},
   "outputs": [],
   "source": [
    "data = pd.read_csv(\"source/supporting/goodreads_interactions.csv\")\n",
    "\n",
    "# TESTING MODE\n",
    "data = data.iloc[0:500000]"
   ]
  },
  {
   "cell_type": "code",
   "execution_count": 4,
   "id": "4fc31a4a",
   "metadata": {},
   "outputs": [],
   "source": [
    "## Focus on read and reviewed only i.e., remove is_reviewed == 0 and rating == 0\n",
    "data = data[(data['is_reviewed']==1)&(data['rating']!=0)]\n",
    "\n",
    "## Focus on users that have more than 10 book ratings\n",
    "ratings_per_user = data[(data['is_reviewed']==1)&(data['rating']!=0)].groupby('user_id').size().reset_index(name='number_of_ratings_per_user')\n",
    "data = data[data.user_id.isin(set(ratings_per_user[ratings_per_user['number_of_ratings_per_user']>=10]['user_id']))]\n",
    "\n",
    "## Focus on ratings >= 3  \n",
    "data = data[data.rating>=3]\n",
    "\n",
    "## Remove is_reviewed and is_read\n",
    "data = data[['user_id','book_id','rating']]"
   ]
  },
  {
   "cell_type": "code",
   "execution_count": 189,
   "id": "d4e06028",
   "metadata": {},
   "outputs": [
    {
     "name": "stdout",
     "output_type": "stream",
     "text": [
      "Total number of entries = 31519\n",
      "Total number of unique users = 398\n",
      "Total number of unique books = 24542\n"
     ]
    }
   ],
   "source": [
    "# Basic statistics about the dataset\n",
    "print(f\"Total number of entries = {len(data)}\")\n",
    "print(f\"Total number of unique users = {len(set(data['user_id']))}\")\n",
    "print(f\"Total number of unique books = {len(set(data['book_id']))}\")"
   ]
  },
  {
   "cell_type": "code",
   "execution_count": 5,
   "id": "d4e50543",
   "metadata": {},
   "outputs": [
    {
     "name": "stdout",
     "output_type": "stream",
     "text": [
      "Train Size  :  25215\n",
      "Test Size :  6304\n"
     ]
    }
   ],
   "source": [
    "# Perform a 80/20 train-test split on the interactions in the dataset\n",
    "train, test = train_test_split(data.values, test_size=0.2, random_state=17)\n",
    "train_df = pd.DataFrame(train, columns=data.columns)\n",
    "test_df = pd.DataFrame(test, columns=data.columns)\n",
    "print(\"Train Size  : \", len(train_df))\n",
    "print(\"Test Size : \", len (test_df))"
   ]
  },
  {
   "cell_type": "code",
   "execution_count": 6,
   "id": "b90884ce",
   "metadata": {},
   "outputs": [],
   "source": [
    "## Relabel IDs train set for both user and book ids\n",
    "le_user = pp.LabelEncoder()\n",
    "le_item = pp.LabelEncoder()\n",
    "train_df['user_id_idx'] = le_user.fit_transform(train_df['user_id'].values)\n",
    "train_df['book_id_idx'] = le_item.fit_transform(train_df['book_id'].values)"
   ]
  },
  {
   "cell_type": "code",
   "execution_count": 7,
   "id": "1555169c",
   "metadata": {},
   "outputs": [],
   "source": [
    "## Test items that are only present in the train set (i.e., user and book id that are in train set)\n",
    "test_df = test_df[(test_df['user_id'].isin(train_df['user_id'].unique())) & (test_df['book_id'].isin(train_df['book_id'].unique()))]\n",
    "\n",
    "## Relabel IDs for test set for both user and book ids\n",
    "test_df['user_id_idx'] = le_user.transform(test_df['user_id'].values)\n",
    "test_df['book_id_idx'] = le_item.transform(test_df['book_id'].values)"
   ]
  },
  {
   "cell_type": "code",
   "execution_count": 8,
   "id": "45f98c01",
   "metadata": {},
   "outputs": [],
   "source": [
    "## Preparing for Micorosft's Input -- requires timestamp even though timestamp isn't used\n",
    "train_df = train_df[['user_id_idx','book_id_idx','rating']]\n",
    "train_df.rename(columns={\"user_id_idx\":\"userID\", \"book_id_idx\":\"itemID\"}, inplace =True)\n",
    "train_df['timestamp'] = 0\n",
    "\n",
    "test_df = test_df[['user_id_idx','book_id_idx','rating']]\n",
    "test_df.rename(columns={\"user_id_idx\":\"userID\", \"book_id_idx\":\"itemID\"}, inplace =True)\n",
    "test_df['timestamp'] = 0\n",
    "\n",
    "## Used for downstream processes\n",
    "combineDF = pd.concat([train_df,test_df])"
   ]
  },
  {
   "cell_type": "code",
   "execution_count": 9,
   "id": "865c36e2",
   "metadata": {},
   "outputs": [
    {
     "name": "stdout",
     "output_type": "stream",
     "text": [
      "Number of Unique Users :  398\n",
      "Number of unique Books :  20177\n"
     ]
    }
   ],
   "source": [
    "## Print number of unique users and books after filter\n",
    "n_users = train_df['userID'].nunique()\n",
    "n_items = train_df['itemID'].nunique()\n",
    "print(\"Number of Unique Users : \", n_users)\n",
    "print(\"Number of unique Books : \", n_items)"
   ]
  },
  {
   "cell_type": "code",
   "execution_count": 10,
   "id": "d8b4fa61",
   "metadata": {},
   "outputs": [],
   "source": [
    "class ALS_MF():\n",
    "    def __init__(self, train_df, test, n_factors=40, lambda_=0.1, n_iter=10, K=20):\n",
    "        self.train_df = train_df\n",
    "        self.ratings = pd.pivot_table(train_df, values='rating', index=['userID'],columns=['itemID']).fillna(0)\n",
    "        self.test = test\n",
    "        self.n_users, self.n_items = self.ratings.shape\n",
    "        self.n_factors = n_factors\n",
    "        self.lambda_ = lambda_\n",
    "        self.n_iter = n_iter\n",
    "        self.K = K\n",
    "\n",
    "    def als_step(self, ratings, updateVec, fixVec):\n",
    "        A = fixVec.T.dot(fixVec) + np.eye(self.n_factors) * self.lambda_\n",
    "        b = ratings.dot(fixVec)\n",
    "        A_inv = np.linalg.inv(A)\n",
    "        updateVec = b.dot(A_inv)\n",
    "        return updateVec\n",
    "\n",
    "    def trainANDtest(self):\n",
    "        self.train_mse_record = []   \n",
    "        self.recall = []   \n",
    "        self.precision = []   \n",
    "        \n",
    "        self.user_vecs = np.random.normal(size=(self.n_users, self.n_factors))\n",
    "        self.item_vecs = np.random.normal(size=(self.n_items, self.n_factors))\n",
    "        for _ in range(self.n_iter):\n",
    "            self.user_vecs = self.als_step(self.ratings, self.user_vecs, self.item_vecs)\n",
    "            self.item_vecs = self.als_step(self.ratings.T, self.item_vecs, self.user_vecs) \n",
    "            predictions = self.predict_all()\n",
    "            self.train_mse_record.append(mean_squared_error(self.ratings, predictions))\n",
    "            recall, precision = self.getMetrics()\n",
    "            self.recall.append(recall)\n",
    "            self.precision.append(precision)\n",
    "        \n",
    "        self.plot_learning_curve()\n",
    "        return predictions\n",
    "    \n",
    "    def predict_all(self):\n",
    "        return self.user_vecs.dot(self.item_vecs.T)\n",
    "        \n",
    "    def recommendTopKAll(self):\n",
    "        predictions = self.predict_all()\n",
    "        predictions[predictions < 0] = int(0) ## set anything less than 0.3 to 0\n",
    "        predictions = pd.DataFrame(predictions).reset_index()\n",
    "        predictions = predictions.melt(id_vars=['userID'], value_vars=list(set(predictions.columns)-{\"userID\"}),\\\n",
    "                                       var_name='itemID', value_name='prediction')\n",
    "        predictions = predictions[predictions['prediction']!=0]\n",
    "        predictions = predictions[predictions['userID'].isin(self.test.userID.unique())]\n",
    "        predictions = predictions.groupby('userID').apply(lambda x: x.nlargest(self.K, 'prediction'))\n",
    "        predictions = predictions.reset_index(drop=True)\n",
    "        return predictions\n",
    "    \n",
    "    def recommendTopK(self, userID):\n",
    "        predictions = self.user_vecs.iloc[userID].dot(self.item_vecs.T)\n",
    "        predictions = predictions.reset_index(name=\"relevance_score\").sort_values('relevance_score', ascending=False)\n",
    "        predictions = predictions[~predictions.itemID.isin(np.nonzero(self.ratings.iloc[0].values)[0])]\n",
    "        predictions = predictions.iloc[:self.K].reset_index(drop=True)\n",
    "        \n",
    "        interaction_train = self.train_df[self.train_df[\"userID\"]==userID].groupby('userID')['itemID'].apply(list).iloc[0]\n",
    "        interaction_test = self.test[self.test[\"userID\"]==userID].groupby('userID')['itemID'].apply(list).iloc[0]\n",
    "        predictions['inTrain'] = predictions.apply(lambda x: True if x.itemID in interaction_train else False, axis=1)\n",
    "        predictions['inTest'] = predictions.apply(lambda x: True if x.itemID in interaction_test else False, axis=1)\n",
    "        return predictions    \n",
    "    \n",
    "    def getMetrics(self):\n",
    "        predictionsDF = self.recommendTopKAll()\n",
    "        predictionsDF = predictionsDF.groupby('userID')['itemID'].apply(list).reset_index()\n",
    "        predictionsDF.rename(columns={\"itemID\":\"top_rlvnt_itm\"}, inplace=True)\n",
    "        test_interacted_items = self.test.groupby('userID')['itemID'].apply(list).reset_index()\n",
    "        metrics_df = pd.merge(test_interacted_items,predictionsDF, how= 'left', on = 'userID')\n",
    "        metrics_df['intrsctn_itm'] = [list(set(a).intersection(b)) for a, b in zip(metrics_df.itemID, metrics_df.top_rlvnt_itm)]\n",
    "        metrics_df['recall'] = metrics_df.apply(lambda x : len(x['intrsctn_itm'])/len(x['itemID']), axis = 1) \n",
    "        metrics_df['precision'] = metrics_df.apply(lambda x : len(x['intrsctn_itm'])/self.K, axis = 1)\n",
    "        return metrics_df['recall'].mean(), metrics_df['precision'].mean()\n",
    "    \n",
    "    def plot_learning_curve(self):\n",
    "        fig = plt.figure(figsize=(8,8))\n",
    "        plt.plot(self.train_mse_record, label = 'Train')\n",
    "        plt.xlabel('iterations')\n",
    "        plt.ylabel('MSE')\n",
    "        plt.title(f\"MSE for ALS - MF w/ factors={self.n_factors}, lambda={self.lambda_}, and iterations={self.n_iter}\")\n",
    "        plt.legend(loc = 'best')\n",
    "        plt.show()\n",
    "        \n",
    "        fig = plt.figure(figsize=(8,8))\n",
    "        plt.plot(self.recall, label='Recall')\n",
    "        plt.plot(self.precision, label='Precision')\n",
    "        plt.xlabel('n_iter')\n",
    "        plt.ylabel('Metrics')\n",
    "        plt.title(f\"Recall@{self.K} & Precision@{self.K} for ALS-MF\")\n",
    "        plt.legend(loc = 'best')\n",
    "        plt.show()\n",
    "           "
   ]
  },
  {
   "cell_type": "code",
   "execution_count": 11,
   "id": "ac2a428b",
   "metadata": {},
   "outputs": [],
   "source": [
    "K = 20\n",
    "als_mf = ALS_MF(train_df, test_df, n_factors=36, lambda_=0.01, n_iter=20, K=K)"
   ]
  },
  {
   "cell_type": "code",
   "execution_count": 12,
   "id": "cd0ebd26",
   "metadata": {
    "scrolled": true
   },
   "outputs": [
    {
     "data": {
      "image/png": "[encoded data removed]",
      "text/plain": [
       "<Figure size 576x576 with 1 Axes>"
      ]
     },
     "metadata": {
      "needs_background": "light"
     },
     "output_type": "display_data"
    },
    {
     "data": {
      "image/png": "[encoded data removed]",
      "text/plain": [
       "<Figure size 576x576 with 1 Axes>"
      ]
     },
     "metadata": {
      "needs_background": "light"
     },
     "output_type": "display_data"
    },
    {
     "name": "stdout",
     "output_type": "stream",
     "text": [
      "Took 45.1316 seconds for training.\n"
     ]
    }
   ],
   "source": [
    "with Timer() as train_time:\n",
    "    als_mfPred = als_mf.trainANDtest()\n",
    "print(\"Took {} seconds for training.\".format(train_time))"
   ]
  },
  {
   "cell_type": "code",
   "execution_count": 13,
   "id": "bcc083c0",
   "metadata": {
    "scrolled": true
   },
   "outputs": [
    {
     "data": {
      "text/html": [
       "<div>\n",
       "<style scoped>\n",
       "    .dataframe tbody tr th:only-of-type {\n",
       "        vertical-align: middle;\n",
       "    }\n",
       "\n",
       "    .dataframe tbody tr th {\n",
       "        vertical-align: top;\n",
       "    }\n",
       "\n",
       "    .dataframe thead th {\n",
       "        text-align: right;\n",
       "    }\n",
       "</style>\n",
       "<table border=\"1\" class=\"dataframe\">\n",
       "  <thead>\n",
       "    <tr style=\"text-align: right;\">\n",
       "      <th></th>\n",
       "      <th>itemID</th>\n",
       "      <th>relevance_score</th>\n",
       "      <th>inTrain</th>\n",
       "      <th>inTest</th>\n",
       "    </tr>\n",
       "  </thead>\n",
       "  <tbody>\n",
       "    <tr>\n",
       "      <th>0</th>\n",
       "      <td>595</td>\n",
       "      <td>5.096090</td>\n",
       "      <td>True</td>\n",
       "      <td>False</td>\n",
       "    </tr>\n",
       "    <tr>\n",
       "      <th>1</th>\n",
       "      <td>1194</td>\n",
       "      <td>5.048410</td>\n",
       "      <td>True</td>\n",
       "      <td>False</td>\n",
       "    </tr>\n",
       "    <tr>\n",
       "      <th>2</th>\n",
       "      <td>785</td>\n",
       "      <td>5.045375</td>\n",
       "      <td>True</td>\n",
       "      <td>False</td>\n",
       "    </tr>\n",
       "    <tr>\n",
       "      <th>3</th>\n",
       "      <td>1192</td>\n",
       "      <td>5.013458</td>\n",
       "      <td>True</td>\n",
       "      <td>False</td>\n",
       "    </tr>\n",
       "    <tr>\n",
       "      <th>4</th>\n",
       "      <td>1456</td>\n",
       "      <td>5.012570</td>\n",
       "      <td>True</td>\n",
       "      <td>False</td>\n",
       "    </tr>\n",
       "    <tr>\n",
       "      <th>5</th>\n",
       "      <td>1457</td>\n",
       "      <td>5.005933</td>\n",
       "      <td>True</td>\n",
       "      <td>False</td>\n",
       "    </tr>\n",
       "    <tr>\n",
       "      <th>6</th>\n",
       "      <td>1226</td>\n",
       "      <td>5.002216</td>\n",
       "      <td>True</td>\n",
       "      <td>False</td>\n",
       "    </tr>\n",
       "    <tr>\n",
       "      <th>7</th>\n",
       "      <td>1588</td>\n",
       "      <td>4.981640</td>\n",
       "      <td>True</td>\n",
       "      <td>False</td>\n",
       "    </tr>\n",
       "    <tr>\n",
       "      <th>8</th>\n",
       "      <td>2605</td>\n",
       "      <td>4.980178</td>\n",
       "      <td>True</td>\n",
       "      <td>False</td>\n",
       "    </tr>\n",
       "    <tr>\n",
       "      <th>9</th>\n",
       "      <td>2252</td>\n",
       "      <td>4.980178</td>\n",
       "      <td>True</td>\n",
       "      <td>False</td>\n",
       "    </tr>\n",
       "    <tr>\n",
       "      <th>10</th>\n",
       "      <td>2482</td>\n",
       "      <td>4.975610</td>\n",
       "      <td>True</td>\n",
       "      <td>False</td>\n",
       "    </tr>\n",
       "    <tr>\n",
       "      <th>11</th>\n",
       "      <td>2674</td>\n",
       "      <td>4.967356</td>\n",
       "      <td>True</td>\n",
       "      <td>False</td>\n",
       "    </tr>\n",
       "    <tr>\n",
       "      <th>12</th>\n",
       "      <td>2775</td>\n",
       "      <td>4.964586</td>\n",
       "      <td>True</td>\n",
       "      <td>False</td>\n",
       "    </tr>\n",
       "    <tr>\n",
       "      <th>13</th>\n",
       "      <td>1193</td>\n",
       "      <td>4.964586</td>\n",
       "      <td>True</td>\n",
       "      <td>False</td>\n",
       "    </tr>\n",
       "    <tr>\n",
       "      <th>14</th>\n",
       "      <td>2703</td>\n",
       "      <td>4.964586</td>\n",
       "      <td>True</td>\n",
       "      <td>False</td>\n",
       "    </tr>\n",
       "    <tr>\n",
       "      <th>15</th>\n",
       "      <td>1296</td>\n",
       "      <td>4.964586</td>\n",
       "      <td>True</td>\n",
       "      <td>False</td>\n",
       "    </tr>\n",
       "    <tr>\n",
       "      <th>16</th>\n",
       "      <td>1297</td>\n",
       "      <td>4.964586</td>\n",
       "      <td>True</td>\n",
       "      <td>False</td>\n",
       "    </tr>\n",
       "    <tr>\n",
       "      <th>17</th>\n",
       "      <td>2975</td>\n",
       "      <td>4.958096</td>\n",
       "      <td>True</td>\n",
       "      <td>False</td>\n",
       "    </tr>\n",
       "    <tr>\n",
       "      <th>18</th>\n",
       "      <td>2607</td>\n",
       "      <td>4.957761</td>\n",
       "      <td>True</td>\n",
       "      <td>False</td>\n",
       "    </tr>\n",
       "    <tr>\n",
       "      <th>19</th>\n",
       "      <td>608</td>\n",
       "      <td>4.957180</td>\n",
       "      <td>True</td>\n",
       "      <td>False</td>\n",
       "    </tr>\n",
       "  </tbody>\n",
       "</table>\n",
       "</div>"
      ],
      "text/plain": [
       "    itemID  relevance_score  inTrain  inTest\n",
       "0      595         5.096090     True   False\n",
       "1     1194         5.048410     True   False\n",
       "2      785         5.045375     True   False\n",
       "3     1192         5.013458     True   False\n",
       "4     1456         5.012570     True   False\n",
       "5     1457         5.005933     True   False\n",
       "6     1226         5.002216     True   False\n",
       "7     1588         4.981640     True   False\n",
       "8     2605         4.980178     True   False\n",
       "9     2252         4.980178     True   False\n",
       "10    2482         4.975610     True   False\n",
       "11    2674         4.967356     True   False\n",
       "12    2775         4.964586     True   False\n",
       "13    1193         4.964586     True   False\n",
       "14    2703         4.964586     True   False\n",
       "15    1296         4.964586     True   False\n",
       "16    1297         4.964586     True   False\n",
       "17    2975         4.958096     True   False\n",
       "18    2607         4.957761     True   False\n",
       "19     608         4.957180     True   False"
      ]
     },
     "execution_count": 13,
     "metadata": {},
     "output_type": "execute_result"
    }
   ],
   "source": [
    "als_mf.recommendTopK(userID=3)"
   ]
  },
  {
   "cell_type": "code",
   "execution_count": 201,
   "id": "c974fdaa",
   "metadata": {},
   "outputs": [
    {
     "name": "stdout",
     "output_type": "stream",
     "text": [
      "MAP:\t0.013501\n",
      "Precision@K:\t0.009841\n",
      "Recall@K:\t0.045891\n"
     ]
    }
   ],
   "source": [
    "topk_scores = als_mf.recommendTopKAll()\n",
    "topk_scores = topk_scores.astype({'itemID': 'int64', 'prediction':'float32'})\n",
    "eval_map = map_at_k(test_df, topk_scores, k=K)\n",
    "eval_precision = precision_at_k(test_df, topk_scores, k=K)\n",
    "eval_recall = recall_at_k(test_df, topk_scores, k=K)\n",
    "\n",
    "print(\"MAP:\\t%f\" % eval_map,\n",
    "      \"Precision@K:\\t%f\" % eval_precision,\n",
    "      \"Recall@K:\\t%f\" % eval_recall, sep='\\n')"
   ]
  },
  {
   "cell_type": "code",
   "execution_count": null,
   "id": "36fc930b",
   "metadata": {},
   "outputs": [],
   "source": []
  }
 ],
 "metadata": {
  "kernelspec": {
   "display_name": "cs5525",
   "language": "python",
   "name": "cs5525"
  },
  "language_info": {
   "codemirror_mode": {
    "name": "ipython",
    "version": 3
   },
   "file_extension": ".py",
   "mimetype": "text/x-python",
   "name": "python",
   "nbconvert_exporter": "python",
   "pygments_lexer": "ipython3",
   "version": "3.9.12"
  }
 },
 "nbformat": 4,
 "nbformat_minor": 5
}
